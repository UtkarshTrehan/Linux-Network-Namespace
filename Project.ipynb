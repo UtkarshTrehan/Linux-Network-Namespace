{
 "cells": [
  {
   "cell_type": "markdown",
   "metadata": {},
   "source": [
    "# Project Task from Criterion Networks\n",
    "***\n"
   ]
  },
  {
   "cell_type": "markdown",
   "metadata": {},
   "source": [
    "## Problem \n",
    "### Task 1\n",
    "Write a python program using pyroute2 python libraries to create Linux network namespace inside a single host environment and connect them using linux bridge.\n",
    "<img src=\"img/task1.png\" alt=\"task1\">\n",
    "### Task 2\n",
    "In addition to this store the ping(reachability) details inside the database for the\n",
    "further analysis\n",
    "<img src=\"img/task2.png\" alt=\"task2\">\n",
    "___\n"
   ]
  },
  {
   "cell_type": "markdown",
   "metadata": {},
   "source": [
    "## Solution\n",
    "___\n"
   ]
  },
  {
   "cell_type": "markdown",
   "metadata": {},
   "source": [
    "### **Before we get into coding we will need to go through some concepts**"
   ]
  },
  {
   "cell_type": "markdown",
   "metadata": {},
   "source": [
    "\n",
    "#### What is Network Namespace?\n",
    ">Network namespaces allow you to have isolated network environments on a single host.Each namespace has its own interfaces and routing table, separated from other namespaces. In addition, processes on your system can be associated with a specific network namespace.</br>\n",
    "\n",
    "#### What is Bridge ?\n",
    ">A bridge transparently relays traffic between multiple network interfaces. In plain English this means that a bridge connects two or more physical Ethernets together to form one bigger (logical) Ethernet.\n",
    "The bridge knows nothing about protocols, it only sees Ethernet frames. As such, the bridging functionality is protocol independent, and there should be no trouble relaying IPX, NetBEUI, IP, IPv6, etc.\n",
    "\n",
    "#### What is veth?\n",
    ">veth (Virtual Ethernet) is a type of network device which always comes in pairs. You can imagine this pair as a tube. Everything you’ll send through one end of the  tube, will come out  at the other end.\n",
    "\n",
    "#### What is Ping?\n",
    ">Ping is a computer network administration software utility used to test the reachability of a host on an Internet Protocol (IP) network. It measures the round-trip time for messages sent from the originating host to a destination computer that are echoed back to the source."
   ]
  },
  {
   "cell_type": "markdown",
   "metadata": {},
   "source": [
    "***\n",
    "### JUST LITTLE MORE WAITING BEFORE WE ACHIEVE THIS USING PYTHON !!!\n"
   ]
  },
  {
   "cell_type": "markdown",
   "metadata": {},
   "source": [
    "#### Here we will look how to setup following configuration on Linux Server \n",
    "##### Requirements\n",
    "1. [Ubuntu Server 17.10](https://www.ubuntu.com/download/server) Linux\n",
    "2. [bridge-utils](https://wiki.linuxfoundation.org/networking/bridge) To add a Bridge"
   ]
  },
  {
   "cell_type": "markdown",
   "metadata": {},
   "source": [
    "#### As we will require to run command as sudo, we will  run an interactive shell as root using -i option\n",
    "\n",
    "> sudo -i\n",
    "\n",
    "<img src=\"img/linux1.png\" alt=\"linux1\">\n",
    "\n",
    "#### Creating network namepsace named 'blue' and 'red'\n",
    "> ip netns add **blue**\n",
    "\n",
    "> ip netns add **red**\n",
    "\n",
    "<img src=\"img/task3.png\" alt=\"taks3\">\n",
    "\n",
    "#### Verifying the created namespaces\n",
    "\n",
    "> ip netns list\n",
    "\n",
    "<img src=\"img/linux2.png\" alt=\"linux2\">\n",
    "\n",
    "#### Creating veth devices\n",
    "\n",
    "> ip link add **vnet1** type veth peer name **vnet2**\n",
    "\n",
    "> ip link add **vnet3** type veth peer name **vnet4**\n",
    "\n",
    "#### Verifying the veth devices\n",
    "\n",
    "> ip link list\n",
    "\n",
    "<img src=\"img/linux3.png\" alt=\"linux3\">\n",
    "\n",
    "#### Creating a Bridge named 'br-test'\n",
    "\n",
    "> brctl addbr **br-test**\n",
    "\n",
    "#### Verifying the Bridge device creation\n",
    "\n",
    "> ip link list\n",
    "\n",
    "<img src=\"img/linux4.png\" alt=\"linux4\">\n",
    "\n",
    "#### Connecting the vnet2 and vnet4 to namespcae blue and red respectively\n",
    ">ip link set **vnet2** netns **blue**\n",
    "\n",
    ">ip link set **vnet4** netns **red** \n",
    "\n",
    "<img src=\"img/task4.png\" alt=\"taks4\">\n",
    "\n",
    "#### Verifying the vnet2 and vnet4 location\n",
    "\n",
    "> ip netns exec blue ip link list\n",
    "\n",
    "> ip netns exec red ip link list\n",
    "\n",
    "<img src=\"img/linux5.png\" alt=\"linux5\">\n",
    "\n",
    "#### Connecting vnet1 and vnet3 to bridge\n",
    "\n",
    "> brctl addif br-test vnet1\n",
    "\n",
    "> brctl addif br-test vnet3\n",
    "\n",
    "#### Verifying the connection of vnet1  and vnet3\n",
    "\n",
    "> ip link list\n",
    "\n",
    "<img src=\"img/linux6.png\" alt=\"linux6\">\n",
    "\n",
    "#### Bringing UP devices and assigning them IPs \n",
    "> ifconfig br-test up\n",
    "\n",
    "> ip link set vnet1 up\n",
    "\n",
    "> ip link set vnet3 up\n",
    "\n",
    "> ip netns exec blue ifconfig vnet2 10.1.1.1/24 up\n",
    "\n",
    "> ip nets exec red ifconfig vnet4 10.1.1.2/24 up\n",
    "\n",
    "\n",
    "#### Verfying the devices are up and assigned with IP Address\n",
    "> ip netns exec **blue** ip **a**\n",
    "\n",
    "> ip netns exec **red** ip **a**\n",
    "\n",
    "> ip link list\n",
    "\n",
    "<img src=\"img/task5.png\" alt=\"task5\">\n",
    "\n",
    "<img src=\"img/linux7.png\" alt=\"linux7\">\n",
    "\n",
    "#### Ping Testing \n",
    "> ip netns exec **blue** ping **10.1.1.2**\n",
    "\n",
    "<img src=\"img/linux8.png\" alt=\"linux8\">\n",
    "\n",
    "<img src=\"img/task7.jpg\" alt=\"taks7jpg\">\n"
   ]
  },
  {
   "cell_type": "markdown",
   "metadata": {},
   "source": [
    "---\n",
    "### Now we will implement the same with Python"
   ]
  },
  {
   "cell_type": "markdown",
   "metadata": {},
   "source": [
    "#### File name : CriterionTask1.py\n",
    "\n",
    "\n",
    "<img src=\"img/task8.png\" alt=\"taks8\">\n",
    "\n",
    "**Run below code and it will ask for PASSWORD of user, enter it to execute above code.**"
   ]
  },
  {
   "cell_type": "code",
   "execution_count": 1,
   "metadata": {},
   "outputs": [
    {
     "name": "stdout",
     "output_type": "stream",
     "text": [
      "········\n"
     ]
    }
   ],
   "source": [
    "import getpass\n",
    "import os\n",
    "\n",
    "password = getpass.getpass()\n",
    "command = \"sudo -S python2 codes\\/CriterionTask1.py\" # can be any command but don't forget -S as it enables input from stdin\n",
    "os.popen(command, 'w').write(password+'\\n'+'1')# newline char is important otherwise prompt will wait for you to manually perform newline"
   ]
  },
  {
   "cell_type": "markdown",
   "metadata": {},
   "source": [
    "#### File name : CriterionTask2.py\n",
    "\n",
    "\n",
    "<img src=\"img/task9.png\" alt=\"taks9\">\n",
    "\n",
    "**Run below code and it will ask for PASSWORD of user, enter it to execute above code.**"
   ]
  },
  {
   "cell_type": "code",
   "execution_count": 2,
   "metadata": {},
   "outputs": [
    {
     "name": "stdout",
     "output_type": "stream",
     "text": [
      "Enter the number of ping interaction: 20\n"
     ]
    }
   ],
   "source": [
    "numberOfIteration = str(raw_input('Enter the number of ping interaction: '))"
   ]
  },
  {
   "cell_type": "code",
   "execution_count": 3,
   "metadata": {},
   "outputs": [
    {
     "name": "stdout",
     "output_type": "stream",
     "text": [
      "········\n"
     ]
    }
   ],
   "source": [
    "password = getpass.getpass()\n",
    "command = \"sudo -S python2 codes\\/CriterionTask2.py\" # can be any command but don't forget -S as it enables input from stdin\n",
    "os.popen(command, 'w').write(password+'\\n'+numberOfIteration)# newline char is important otherwise prompt will wait for you to manually perform newline"
   ]
  },
  {
   "cell_type": "markdown",
   "metadata": {},
   "source": [
    "### Sample Data that was genertaed:\n",
    "<img src=\"img/task10.png\" alt=\"taks10\">"
   ]
  },
  {
   "cell_type": "markdown",
   "metadata": {},
   "source": [
    "### Back to default Setup \n",
    "\n",
    "> Read BackToNormal(Readme).txt inside folder\n",
    "\n",
    "___"
   ]
  },
  {
   "cell_type": "markdown",
   "metadata": {
    "collapsed": true
   },
   "source": [
    "***\n",
    "## Refrences \n",
    "\n",
    ">[introducing-linux-network-namespaces](https://blog.scottlowe.org/2013/09/04/introducing-linux-network-namespaces/)\n",
    "\n",
    ">[ip-netns](http://man7.org/linux/man-pages/man8/ip-netns.8.html)\n",
    "\n",
    ">[linux-network-namespace](http://abregman.com/2016/09/29/linux-network-namespace/)\n",
    "\n",
    ">[bridge](https://wiki.linuxfoundation.org/networking/bridge)\n",
    "\n",
    "***"
   ]
  }
 ],
 "metadata": {
  "kernelspec": {
   "display_name": "Python 3",
   "language": "python",
   "name": "python3"
  },
  "language_info": {
   "codemirror_mode": {
    "name": "ipython",
    "version": 3
   },
   "file_extension": ".py",
   "mimetype": "text/x-python",
   "name": "python",
   "nbconvert_exporter": "python",
   "pygments_lexer": "ipython3",
   "version": "3.6.1"
  }
 },
 "nbformat": 4,
 "nbformat_minor": 2
}
